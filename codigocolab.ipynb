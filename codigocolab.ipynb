{
  "nbformat": 4,
  "nbformat_minor": 0,
  "metadata": {
    "colab": {
      "provenance": [],
      "authorship_tag": "ABX9TyP3A9fXiOOHpZNG1L7L5kL1",
      "include_colab_link": true
    },
    "kernelspec": {
      "name": "python3",
      "display_name": "Python 3"
    },
    "language_info": {
      "name": "python"
    }
  },
  "cells": [
    {
      "cell_type": "markdown",
      "metadata": {
        "id": "view-in-github",
        "colab_type": "text"
      },
      "source": [
        "<a href=\"https://colab.research.google.com/github/henriquecm02/Projeto_Imers-o_AluraGoogle_SI.O.S/blob/main/codigocolab.ipynb\" target=\"_parent\"><img src=\"https://colab.research.google.com/assets/colab-badge.svg\" alt=\"Open In Colab\"/></a>"
      ]
    },
    {
      "cell_type": "markdown",
      "source": [
        "## Instalando e Importando Bibliotecas Úteis ao Projeto."
      ],
      "metadata": {
        "id": "c8aLux9CGkeD"
      }
    },
    {
      "cell_type": "code",
      "source": [
        "!pip install streamlit\n",
        "!pip install genai\n",
        "import os\n",
        "import streamlit as st\n",
        "import google.generativeai as genai\n",
        "import base64\n",
        "import imaplib\n",
        "import smtplib\n",
        "from email.mime.text import MIMEText\n",
        "import threading\n",
        "import time\n"
      ],
      "metadata": {
        "colab": {
          "base_uri": "https://localhost:8080/",
          "height": 1000
        },
        "id": "jqLNBXZ7GoxB",
        "outputId": "a465414f-83c1-437d-9ff3-3daccbaaaab9",
        "collapsed": true
      },
      "execution_count": null,
      "outputs": [
        {
          "output_type": "stream",
          "name": "stdout",
          "text": [
            "Requirement already satisfied: streamlit in /usr/local/lib/python3.10/dist-packages (1.34.0)\n",
            "Requirement already satisfied: altair<6,>=4.0 in /usr/local/lib/python3.10/dist-packages (from streamlit) (4.2.2)\n",
            "Requirement already satisfied: blinker<2,>=1.0.0 in /usr/lib/python3/dist-packages (from streamlit) (1.4)\n",
            "Requirement already satisfied: cachetools<6,>=4.0 in /usr/local/lib/python3.10/dist-packages (from streamlit) (5.3.3)\n",
            "Requirement already satisfied: click<9,>=7.0 in /usr/local/lib/python3.10/dist-packages (from streamlit) (8.1.7)\n",
            "Requirement already satisfied: numpy<2,>=1.19.3 in /usr/local/lib/python3.10/dist-packages (from streamlit) (1.25.2)\n",
            "Requirement already satisfied: packaging<25,>=16.8 in /usr/local/lib/python3.10/dist-packages (from streamlit) (24.0)\n",
            "Requirement already satisfied: pandas<3,>=1.3.0 in /usr/local/lib/python3.10/dist-packages (from streamlit) (2.0.3)\n",
            "Requirement already satisfied: pillow<11,>=7.1.0 in /usr/local/lib/python3.10/dist-packages (from streamlit) (9.4.0)\n",
            "Requirement already satisfied: protobuf<5,>=3.20 in /usr/local/lib/python3.10/dist-packages (from streamlit) (3.20.3)\n",
            "Requirement already satisfied: pyarrow>=7.0 in /usr/local/lib/python3.10/dist-packages (from streamlit) (14.0.2)\n",
            "Requirement already satisfied: requests<3,>=2.27 in /usr/local/lib/python3.10/dist-packages (from streamlit) (2.31.0)\n",
            "Requirement already satisfied: rich<14,>=10.14.0 in /usr/local/lib/python3.10/dist-packages (from streamlit) (13.7.1)\n",
            "Requirement already satisfied: tenacity<9,>=8.1.0 in /usr/local/lib/python3.10/dist-packages (from streamlit) (8.3.0)\n",
            "Requirement already satisfied: toml<2,>=0.10.1 in /usr/local/lib/python3.10/dist-packages (from streamlit) (0.10.2)\n",
            "Requirement already satisfied: typing-extensions<5,>=4.3.0 in /usr/local/lib/python3.10/dist-packages (from streamlit) (4.11.0)\n",
            "Requirement already satisfied: gitpython!=3.1.19,<4,>=3.0.7 in /usr/local/lib/python3.10/dist-packages (from streamlit) (3.1.43)\n",
            "Requirement already satisfied: pydeck<1,>=0.8.0b4 in /usr/local/lib/python3.10/dist-packages (from streamlit) (0.9.1)\n",
            "Requirement already satisfied: tornado<7,>=6.0.3 in /usr/local/lib/python3.10/dist-packages (from streamlit) (6.3.3)\n",
            "Requirement already satisfied: watchdog>=2.1.5 in /usr/local/lib/python3.10/dist-packages (from streamlit) (4.0.0)\n",
            "Requirement already satisfied: entrypoints in /usr/local/lib/python3.10/dist-packages (from altair<6,>=4.0->streamlit) (0.4)\n",
            "Requirement already satisfied: jinja2 in /usr/local/lib/python3.10/dist-packages (from altair<6,>=4.0->streamlit) (3.1.4)\n",
            "Requirement already satisfied: jsonschema>=3.0 in /usr/local/lib/python3.10/dist-packages (from altair<6,>=4.0->streamlit) (4.19.2)\n",
            "Requirement already satisfied: toolz in /usr/local/lib/python3.10/dist-packages (from altair<6,>=4.0->streamlit) (0.12.1)\n",
            "Requirement already satisfied: gitdb<5,>=4.0.1 in /usr/local/lib/python3.10/dist-packages (from gitpython!=3.1.19,<4,>=3.0.7->streamlit) (4.0.11)\n",
            "Requirement already satisfied: python-dateutil>=2.8.2 in /usr/local/lib/python3.10/dist-packages (from pandas<3,>=1.3.0->streamlit) (2.8.2)\n",
            "Requirement already satisfied: pytz>=2020.1 in /usr/local/lib/python3.10/dist-packages (from pandas<3,>=1.3.0->streamlit) (2023.4)\n",
            "Requirement already satisfied: tzdata>=2022.1 in /usr/local/lib/python3.10/dist-packages (from pandas<3,>=1.3.0->streamlit) (2024.1)\n",
            "Requirement already satisfied: charset-normalizer<4,>=2 in /usr/local/lib/python3.10/dist-packages (from requests<3,>=2.27->streamlit) (3.3.2)\n",
            "Requirement already satisfied: idna<4,>=2.5 in /usr/local/lib/python3.10/dist-packages (from requests<3,>=2.27->streamlit) (3.7)\n",
            "Requirement already satisfied: urllib3<3,>=1.21.1 in /usr/local/lib/python3.10/dist-packages (from requests<3,>=2.27->streamlit) (2.0.7)\n",
            "Requirement already satisfied: certifi>=2017.4.17 in /usr/local/lib/python3.10/dist-packages (from requests<3,>=2.27->streamlit) (2024.2.2)\n",
            "Requirement already satisfied: markdown-it-py>=2.2.0 in /usr/local/lib/python3.10/dist-packages (from rich<14,>=10.14.0->streamlit) (3.0.0)\n",
            "Requirement already satisfied: pygments<3.0.0,>=2.13.0 in /usr/local/lib/python3.10/dist-packages (from rich<14,>=10.14.0->streamlit) (2.16.1)\n",
            "Requirement already satisfied: smmap<6,>=3.0.1 in /usr/local/lib/python3.10/dist-packages (from gitdb<5,>=4.0.1->gitpython!=3.1.19,<4,>=3.0.7->streamlit) (5.0.1)\n",
            "Requirement already satisfied: MarkupSafe>=2.0 in /usr/local/lib/python3.10/dist-packages (from jinja2->altair<6,>=4.0->streamlit) (2.1.5)\n",
            "Requirement already satisfied: attrs>=22.2.0 in /usr/local/lib/python3.10/dist-packages (from jsonschema>=3.0->altair<6,>=4.0->streamlit) (23.2.0)\n",
            "Requirement already satisfied: jsonschema-specifications>=2023.03.6 in /usr/local/lib/python3.10/dist-packages (from jsonschema>=3.0->altair<6,>=4.0->streamlit) (2023.12.1)\n",
            "Requirement already satisfied: referencing>=0.28.4 in /usr/local/lib/python3.10/dist-packages (from jsonschema>=3.0->altair<6,>=4.0->streamlit) (0.35.1)\n",
            "Requirement already satisfied: rpds-py>=0.7.1 in /usr/local/lib/python3.10/dist-packages (from jsonschema>=3.0->altair<6,>=4.0->streamlit) (0.18.1)\n",
            "Requirement already satisfied: mdurl~=0.1 in /usr/local/lib/python3.10/dist-packages (from markdown-it-py>=2.2.0->rich<14,>=10.14.0->streamlit) (0.1.2)\n",
            "Requirement already satisfied: six>=1.5 in /usr/local/lib/python3.10/dist-packages (from python-dateutil>=2.8.2->pandas<3,>=1.3.0->streamlit) (1.16.0)\n",
            "Collecting genai\n",
            "  Downloading genai-2.1.0-py3-none-any.whl (16 kB)\n",
            "Collecting ipython<9.0.0,>=8.10.0 (from genai)\n",
            "  Downloading ipython-8.24.0-py3-none-any.whl (816 kB)\n",
            "\u001b[2K     \u001b[90m━━━━━━━━━━━━━━━━━━━━━━━━━━━━━━━━━━━━━━━━\u001b[0m \u001b[32m816.5/816.5 kB\u001b[0m \u001b[31m6.9 MB/s\u001b[0m eta \u001b[36m0:00:00\u001b[0m\n",
            "\u001b[?25hCollecting openai<0.28.0,>=0.27.0 (from genai)\n",
            "  Downloading openai-0.27.10-py3-none-any.whl (76 kB)\n",
            "\u001b[2K     \u001b[90m━━━━━━━━━━━━━━━━━━━━━━━━━━━━━━━━━━━━━━━━\u001b[0m \u001b[32m76.5/76.5 kB\u001b[0m \u001b[31m8.8 MB/s\u001b[0m eta \u001b[36m0:00:00\u001b[0m\n",
            "\u001b[?25hRequirement already satisfied: tabulate<0.10.0,>=0.9.0 in /usr/local/lib/python3.10/dist-packages (from genai) (0.9.0)\n",
            "Collecting tiktoken<0.4.0,>=0.3.2 (from genai)\n",
            "  Downloading tiktoken-0.3.3-cp310-cp310-manylinux_2_17_x86_64.manylinux2014_x86_64.whl (1.7 MB)\n",
            "\u001b[2K     \u001b[90m━━━━━━━━━━━━━━━━━━━━━━━━━━━━━━━━━━━━━━━━\u001b[0m \u001b[32m1.7/1.7 MB\u001b[0m \u001b[31m12.0 MB/s\u001b[0m eta \u001b[36m0:00:00\u001b[0m\n",
            "\u001b[?25hRequirement already satisfied: decorator in /usr/local/lib/python3.10/dist-packages (from ipython<9.0.0,>=8.10.0->genai) (4.4.2)\n",
            "Collecting jedi>=0.16 (from ipython<9.0.0,>=8.10.0->genai)\n",
            "  Downloading jedi-0.19.1-py2.py3-none-any.whl (1.6 MB)\n",
            "\u001b[2K     \u001b[90m━━━━━━━━━━━━━━━━━━━━━━━━━━━━━━━━━━━━━━━━\u001b[0m \u001b[32m1.6/1.6 MB\u001b[0m \u001b[31m17.6 MB/s\u001b[0m eta \u001b[36m0:00:00\u001b[0m\n",
            "\u001b[?25hRequirement already satisfied: matplotlib-inline in /usr/local/lib/python3.10/dist-packages (from ipython<9.0.0,>=8.10.0->genai) (0.1.7)\n",
            "Requirement already satisfied: prompt-toolkit<3.1.0,>=3.0.41 in /usr/local/lib/python3.10/dist-packages (from ipython<9.0.0,>=8.10.0->genai) (3.0.43)\n",
            "Requirement already satisfied: pygments>=2.4.0 in /usr/local/lib/python3.10/dist-packages (from ipython<9.0.0,>=8.10.0->genai) (2.16.1)\n",
            "Collecting stack-data (from ipython<9.0.0,>=8.10.0->genai)\n",
            "  Downloading stack_data-0.6.3-py3-none-any.whl (24 kB)\n",
            "Collecting traitlets>=5.13.0 (from ipython<9.0.0,>=8.10.0->genai)\n",
            "  Downloading traitlets-5.14.3-py3-none-any.whl (85 kB)\n",
            "\u001b[2K     \u001b[90m━━━━━━━━━━━━━━━━━━━━━━━━━━━━━━━━━━━━━━━━\u001b[0m \u001b[32m85.4/85.4 kB\u001b[0m \u001b[31m10.1 MB/s\u001b[0m eta \u001b[36m0:00:00\u001b[0m\n",
            "\u001b[?25hRequirement already satisfied: exceptiongroup in /usr/local/lib/python3.10/dist-packages (from ipython<9.0.0,>=8.10.0->genai) (1.2.1)\n",
            "Requirement already satisfied: typing-extensions>=4.6 in /usr/local/lib/python3.10/dist-packages (from ipython<9.0.0,>=8.10.0->genai) (4.11.0)\n",
            "Requirement already satisfied: pexpect>4.3 in /usr/local/lib/python3.10/dist-packages (from ipython<9.0.0,>=8.10.0->genai) (4.9.0)\n",
            "Requirement already satisfied: requests>=2.20 in /usr/local/lib/python3.10/dist-packages (from openai<0.28.0,>=0.27.0->genai) (2.31.0)\n",
            "Requirement already satisfied: tqdm in /usr/local/lib/python3.10/dist-packages (from openai<0.28.0,>=0.27.0->genai) (4.66.4)\n",
            "Requirement already satisfied: aiohttp in /usr/local/lib/python3.10/dist-packages (from openai<0.28.0,>=0.27.0->genai) (3.9.5)\n",
            "Requirement already satisfied: regex>=2022.1.18 in /usr/local/lib/python3.10/dist-packages (from tiktoken<0.4.0,>=0.3.2->genai) (2023.12.25)\n",
            "Requirement already satisfied: parso<0.9.0,>=0.8.3 in /usr/local/lib/python3.10/dist-packages (from jedi>=0.16->ipython<9.0.0,>=8.10.0->genai) (0.8.4)\n",
            "Requirement already satisfied: ptyprocess>=0.5 in /usr/local/lib/python3.10/dist-packages (from pexpect>4.3->ipython<9.0.0,>=8.10.0->genai) (0.7.0)\n",
            "Requirement already satisfied: wcwidth in /usr/local/lib/python3.10/dist-packages (from prompt-toolkit<3.1.0,>=3.0.41->ipython<9.0.0,>=8.10.0->genai) (0.2.13)\n",
            "Requirement already satisfied: charset-normalizer<4,>=2 in /usr/local/lib/python3.10/dist-packages (from requests>=2.20->openai<0.28.0,>=0.27.0->genai) (3.3.2)\n",
            "Requirement already satisfied: idna<4,>=2.5 in /usr/local/lib/python3.10/dist-packages (from requests>=2.20->openai<0.28.0,>=0.27.0->genai) (3.7)\n",
            "Requirement already satisfied: urllib3<3,>=1.21.1 in /usr/local/lib/python3.10/dist-packages (from requests>=2.20->openai<0.28.0,>=0.27.0->genai) (2.0.7)\n",
            "Requirement already satisfied: certifi>=2017.4.17 in /usr/local/lib/python3.10/dist-packages (from requests>=2.20->openai<0.28.0,>=0.27.0->genai) (2024.2.2)\n",
            "Requirement already satisfied: aiosignal>=1.1.2 in /usr/local/lib/python3.10/dist-packages (from aiohttp->openai<0.28.0,>=0.27.0->genai) (1.3.1)\n",
            "Requirement already satisfied: attrs>=17.3.0 in /usr/local/lib/python3.10/dist-packages (from aiohttp->openai<0.28.0,>=0.27.0->genai) (23.2.0)\n",
            "Requirement already satisfied: frozenlist>=1.1.1 in /usr/local/lib/python3.10/dist-packages (from aiohttp->openai<0.28.0,>=0.27.0->genai) (1.4.1)\n",
            "Requirement already satisfied: multidict<7.0,>=4.5 in /usr/local/lib/python3.10/dist-packages (from aiohttp->openai<0.28.0,>=0.27.0->genai) (6.0.5)\n",
            "Requirement already satisfied: yarl<2.0,>=1.0 in /usr/local/lib/python3.10/dist-packages (from aiohttp->openai<0.28.0,>=0.27.0->genai) (1.9.4)\n",
            "Requirement already satisfied: async-timeout<5.0,>=4.0 in /usr/local/lib/python3.10/dist-packages (from aiohttp->openai<0.28.0,>=0.27.0->genai) (4.0.3)\n",
            "Collecting executing>=1.2.0 (from stack-data->ipython<9.0.0,>=8.10.0->genai)\n",
            "  Downloading executing-2.0.1-py2.py3-none-any.whl (24 kB)\n",
            "Collecting asttokens>=2.1.0 (from stack-data->ipython<9.0.0,>=8.10.0->genai)\n",
            "  Downloading asttokens-2.4.1-py2.py3-none-any.whl (27 kB)\n",
            "Collecting pure-eval (from stack-data->ipython<9.0.0,>=8.10.0->genai)\n",
            "  Downloading pure_eval-0.2.2-py3-none-any.whl (11 kB)\n",
            "Requirement already satisfied: six>=1.12.0 in /usr/local/lib/python3.10/dist-packages (from asttokens>=2.1.0->stack-data->ipython<9.0.0,>=8.10.0->genai) (1.16.0)\n",
            "Installing collected packages: pure-eval, traitlets, jedi, executing, asttokens, tiktoken, stack-data, openai, ipython, genai\n",
            "  Attempting uninstall: traitlets\n",
            "    Found existing installation: traitlets 5.7.1\n",
            "    Uninstalling traitlets-5.7.1:\n",
            "      Successfully uninstalled traitlets-5.7.1\n",
            "  Attempting uninstall: ipython\n",
            "    Found existing installation: ipython 7.34.0\n",
            "    Uninstalling ipython-7.34.0:\n",
            "      Successfully uninstalled ipython-7.34.0\n",
            "\u001b[31mERROR: pip's dependency resolver does not currently take into account all the packages that are installed. This behaviour is the source of the following dependency conflicts.\n",
            "google-colab 1.0.0 requires ipython==7.34.0, but you have ipython 8.24.0 which is incompatible.\u001b[0m\u001b[31m\n",
            "\u001b[0mSuccessfully installed asttokens-2.4.1 executing-2.0.1 genai-2.1.0 ipython-8.24.0 jedi-0.19.1 openai-0.27.10 pure-eval-0.2.2 stack-data-0.6.3 tiktoken-0.3.3 traitlets-5.14.3\n"
          ]
        },
        {
          "output_type": "display_data",
          "data": {
            "application/vnd.colab-display-data+json": {
              "pip_warning": {
                "packages": [
                  "IPython"
                ]
              },
              "id": "bd99b19d23374d978dc855457ac565bb"
            }
          },
          "metadata": {}
        }
      ]
    },
    {
      "cell_type": "markdown",
      "source": [
        "## Conectando ao Google AI Studio, Defindo o Modelo de LLM e Inicializando os Protocolos de Segurança e Login.\n",
        "\n",
        "> Adicionar aspas\n",
        "\n",
        "> Adicionar aspas\n",
        "\n",
        "\n",
        "\n"
      ],
      "metadata": {
        "id": "o4N05ze6JKDi"
      }
    },
    {
      "cell_type": "code",
      "execution_count": null,
      "metadata": {
        "id": "jwBv7DofDofw"
      },
      "outputs": [],
      "source": [
        "safety_settings={\n",
        "    'HATE': 'BLOCK_NONE',\n",
        "    'HARASSMENT': 'BLOCK_NONE',\n",
        "    'SEXUAL' : 'BLOCK',\n",
        "    'DANGEROUS' : 'BLOCK_NONE'\n",
        "    }"
      ]
    },
    {
      "cell_type": "markdown",
      "source": [
        "### INICIALMENTE SERÃO ADICIONADOS FILTROS POR SE TRATAR DE UMA FERRAMENTA DE SEGURANÇA E ESTAR EM FASE DE PROTOTIPAGEM E DESENVOLVIMENTO.\n",
        " **Por ser permitido o acesso a menores de 18 anos"
      ],
      "metadata": {
        "id": "EbRBClPQoTgF"
      }
    },
    {
      "cell_type": "code",
      "execution_count": null,
      "metadata": {
        "id": "O1ochaeyDn_o"
      },
      "outputs": [],
      "source": [
        "generation_config = {\n",
        "  \"candidate_count\": 1,\n",
        "  \"temperature\": 1,\n",
        "}"
      ]
    },
    {
      "cell_type": "code",
      "source": [
        "from google.oauth2 import service_account\n",
        "from googleapiclient.discovery import build\n",
        "\n",
        "# Carregar a chave API de variável de ambiente\n",
        "GOOGLE_API_KEY = os.environ.get(\"GOOGLE_API_KEY\")\n",
        "if GOOGLE_API_KEY is None:\n",
        "    st.error(\"A variável de ambiente 'GOOGLE_API_KEY' não está definida. Configure-a no Google Colab.\")\n",
        "genai.configure(api_key=GOOGLE_API_KEY)\n",
        "\n",
        "# Credenciais para API do Google\n",
        "# **Substitua pelo caminho do seu arquivo JSON no Google Colab!**\n",
        "# Você pode usar a funcionalidade de upload de arquivos do Colab para fazer upload do seu arquivo credentials.json.\n",
        "SERVICE_ACCOUNT_FILE = '/content/credentials.json' # Substitua pelo caminho correto\n",
        "SCOPES = ['https://www.googleapis.com/auth/admin.reports.audit.readonly', 'https://www.googleapis.com/auth/admin.directory.user.readonly']\n",
        "# Modelo de IA a ser utilizado\n",
        "MODEL_NAME = \"gemini-1.0-pro\"\n",
        "\n"
      ],
      "metadata": {
        "id": "9VTkVESVJoPX"
      },
      "execution_count": null,
      "outputs": []
    },
    {
      "cell_type": "markdown",
      "source": [
        "## Preenchendo Dicionários que Serão Utilizados Ao Longo da Execução do Código."
      ],
      "metadata": {
        "id": "ejLqFj2fJ2iH"
      }
    },
    {
      "cell_type": "code",
      "source": [
        "# Definição das personas e estilos de comunicação para o chatbot\n",
        "system_instructions = {\n",
        "    1: {\n",
        "        \"persona\": \"Professor de Segurança da Informação\",\n",
        "        \"tone\": \"informative\",\n",
        "        \"style\": \"friendly\"\n",
        "    },\n",
        "    2: {\n",
        "        \"persona\": \"Engenheiro de Software\",\n",
        "        \"tone\": \"technical\",\n",
        "        \"style\": \"professional\"\n",
        "    },\n",
        "    3: {\n",
        "        \"persona\": \"Especialista em Segurança da Informação\",\n",
        "        \"tone\": \"authoritative\",\n",
        "        \"style\": \"formal\"\n",
        "    }\n",
        "}\n",
        "\n",
        "'''# Carregar conteúdos de arquivos externos\n",
        "# Adaptado para Colab - carregando os arquivos de texto a partir do seu Google Drive\n",
        "from google.colab import drive\n",
        "drive.mount('/content/drive')\n",
        "\n",
        "def carregar_conteudo(arquivo):\n",
        "    with open(f'/content/drive/My Drive/{arquivo}', \"r\", encoding='utf-8') as f: # Substitua 'caminho/para/seu/arquivo' pelo caminho real no seu Drive\n",
        "        return f.read()'''\n",
        "\n",
        "# Conteúdos pré-definidos para a persona de Professor de Segurança da Informação\n",
        "conteudos = {\n",
        "    1: \"\",\n",
        "    2: \"\",\n",
        "    3: \"\",\n",
        "    4: \"\",\n",
        "    5: \"\",\n",
        "}\n",
        "\n",
        "# Métodos de integração para o  perfíl  3\n",
        "metodos = {\n",
        "    1: \"\",\n",
        "    2: \"\",\n",
        "    3: \"\",\n",
        "}\n"
      ],
      "metadata": {
        "id": "KZ8F04gbK76j"
      },
      "execution_count": null,
      "outputs": []
    },
    {
      "cell_type": "markdown",
      "source": [
        "##   Configurando a Segurança das Contas Google Através do Google AI Studio, Pedindo Acesso a Conta de Email e realizando o Login Caso o Usúario Opte."
      ],
      "metadata": {
        "id": "dF-E9RQaLwZQ"
      }
    },
    {
      "cell_type": "code",
      "source": [
        "# Configurações de email (substituir com suas informações)\n",
        "EMAIL_ADDRESS = os.environ.get(\"EMAIL_ADDRESS\")\n",
        "EMAIL_PASSWORD = os.environ.get(\"EMAIL_PASSWORD\")\n",
        "SMTP_SERVER = os.environ.get(\"SMTP_SERVER\")\n",
        "IMAP_SERVER = os.environ.get(\"IMAP_SERVER\")\n",
        "\n",
        "# Verificar se as variáveis de ambiente de email estão definidas\n",
        "if not all([EMAIL_ADDRESS, EMAIL_PASSWORD, SMTP_SERVER, IMAP_SERVER]):\n",
        "    st.error(\"Variáveis de ambiente de email não estão configuradas corretamente. Configure-as no Google Colab.\")\n",
        "\n",
        "# Função para conectar ao servidor IMAP e recuperar emails\n",
        "def get_emails(criteria):\n",
        "    try:\n",
        "        with imaplib.IMAP4_SSL(IMAP_SERVER) as imap:\n",
        "            imap.login(EMAIL_ADDRESS, EMAIL_PASSWORD)\n",
        "            status, data = imap.select(\"INBOX\")\n",
        "            if status == 'OK':\n",
        "                imap.search(None, criteria)\n",
        "                status, data = imap.fetch(data[0][0], '(RFC822)')\n",
        "                for msg_id, msg_data in data:\n",
        "                    for response_part in msg_data:\n",
        "                        if isinstance(response_part, bytes):\n",
        "                            message = email.message_from_string(response_part.decode('utf-8'))\n",
        "                            yield message\n",
        "    except Exception as e:\n",
        "        st.error(f\"Erro ao conectar ao servidor de email: {e}\")\n",
        "\n",
        "# Função para enviar email de alerta\n",
        "def send_alert_email(subject, body):\n",
        "    try:\n",
        "        message = MIMEText(body)\n",
        "        message['Subject'] = subject\n",
        "        message['From'] = EMAIL_ADDRESS\n",
        "        message['To'] = EMAIL_ADDRESS\n",
        "        with smtplib.SMTP(SMTP_SERVER) as server:\n",
        "            server.login(EMAIL_ADDRESS, EMAIL_PASSWORD)\n",
        "            server.sendmail(EMAIL_ADDRESS, EMAIL_ADDRESS, message.as_string())\n",
        "    except Exception as e:\n",
        "        st.error(f\"Erro ao enviar email de alerta: {e}\")\n",
        "\n",
        "# Função para conectar à API do Google\n",
        "def connect_to_google_api():\n",
        "    credentials = service_account.Credentials.from_service_account_file(\n",
        "        SERVICE_ACCOUNT_FILE, scopes=SCOPES)\n",
        "    return build('admin', 'reports_v1', credentials=credentials), build('admin', 'directory_v1', credentials=credentials)\n",
        "\n",
        "# Função para monitorar atividades de login\n",
        "def monitor_login_activities(reports_service, start_time):\n",
        "    results = reports_service.activities().list(userKey='all', applicationName='login', startTime=start_time).execute()\n",
        "    activities = results.get('items', [])\n",
        "    for activity in activities:\n",
        "        event_name = activity['events'][0]['name']\n",
        "        if event_name == 'login_failure':\n",
        "            st.warning(f\"Falha de login detectada: {activity}\")\n",
        "            send_alert_email(\"Alerta de Segurança: Falha de Login\", f\"Detalhes da falha: {activity}\")\n",
        "\n",
        "# Função para monitorar usuários\n",
        "def monitor_users(directory_service):\n",
        "    results = directory_service.users().list(customer='my_customer', orderBy='email').execute()\n",
        "    users = results.get('users', [])\n",
        "    for user in users:\n",
        "        st.write(f\"Usuário: {user['name']['fullName']} ({user['primaryEmail']})\")\n",
        "        # Implementar verificações adicionais de segurança aqui\n",
        "        # ...\n",
        "\n",
        "# Interface de usuário no Streamlit\n",
        "st.title(\"S1.0.S - Seu Assistente Inteligente de Segurança da Informação\")\n",
        "\n",
        "# Seção de boas-vindas e seleção de perfil de usuário\n",
        "reconhecimento = st.selectbox(\"Qual o seu perfil de usuário?\", list(system_instructions.keys()))\n",
        "\n",
        "# Exibição de conteúdo com base no perfil\n",
        "if reconhecimento == 1:\n",
        "    st.header(\"Conteúdo Básico de Segurança da Informação\")\n",
        "    conteudo_selecionado = st.selectbox(\"Escolha um tópico:\", conteudos.keys())\n",
        "    if conteudo_selecionado:\n",
        "        st.write(conteudos[conteudo_selecionado])\n",
        "elif reconhecimento in [2, 3]:\n",
        "    st.header(\"Recursos para Profissionais de Segurança e Desenvolvimento\")\n",
        "    metodo_selecionado = st.selectbox(\"Escolha um tópico:\", metodos.keys())\n",
        "    if metodo_selecionado:\n",
        "        st.write(metodos[metodo_selecionado])\n",
        "\n",
        "# Seção de monitoramento de email\n",
        "if st.checkbox(\"Ativar monitoramento de email?\"):\n",
        "    # Opções de critérios de pesquisa de email\n",
        "    col1, col2 = st.columns(2)\n",
        "    from_address = col1.text_input(\"De:\", placeholder=\"remetente@exemplo.com (opcional)\")\n",
        "    to_address = col2.text_input(\"Para:\", placeholder=\"destinatario@exemplo.com (opcional)\")\n",
        "    subject_contains = st.text_input(\"Assunto contém:\", placeholder=\"palavras-chave (opcional)\")\n",
        "    body_contains = st.text_input(\"Corpo contém:\", placeholder=\"palavras-chave (opcional)\")\n",
        "    # Botão para iniciar o monitoramento\n",
        "    if st.button(\"Iniciar monitoramento\"):\n",
        "        def monitor_emails():\n",
        "            criteria = f'(OR (FROM \"{from_address}\") (TO \"{to_address}\") (SUBJECT \"{subject_contains}\") (BODY \"{body_contains}\"))'\n",
        "            for message in get_emails(criteria):\n",
        "                st.write(f\"Novo email recebido: {message['Subject']}\")\n",
        "                # Implementar lógica de detecção de phishing/malware aqui\n",
        "                # ...\n",
        "                # Enviar alerta se necessário\n",
        "                # send_alert_email(\"Alerta de segurança!\", \"Email suspeito recebido!\")\n",
        "        thread = threading.Thread(target=monitor_emails)\n",
        "        thread.start()\n",
        "\n",
        "# Seção de monitoramento de contas Google\n",
        "st.header(\"Monitoramento de Contas Google\")\n",
        "if st.checkbox(\"Ativar monitoramento de contas Google?\"):\n",
        "    reports_service, directory_service = connect_to_google_api()\n",
        "    start_time = (time.time() - 3600) * 1000  # Última hora em milissegundos\n",
        "    def monitor_google_accounts():\n",
        "        while True:\n",
        "            monitor_login_activities(reports_service, start_time)\n",
        "            monitor_users(directory_service)\n",
        "            time.sleep(60)  # Verificar a cada minuto\n",
        "    thread = threading.Thread(target=monitor_google_accounts)\n",
        "    thread.start()\n"
      ],
      "metadata": {
        "id": "MXBBZxliM5DD"
      },
      "execution_count": null,
      "outputs": []
    },
    {
      "cell_type": "code",
      "source": [
        "# Seção de monitoramento de contas Google\n",
        "st.header(\"Monitoramento de Contas Google\")\n",
        "if st.checkbox(\"Ativar monitoramento de contas Google?\"):\n",
        "    reports_service, directory_service = connect_to_google_api()\n",
        "    start_time = (time.time() - 3600) * 1000  # Última hora em milissegundos\n",
        "    def monitor_google_accounts():\n",
        "        while True:\n",
        "            monitor_login_activities(reports_service, start_time)\n",
        "            monitor_users(directory_service)\n",
        "            time.sleep(60)  # Verificar a cada minuto\n",
        "    thread = threading.Thread(target=monitor_google_accounts)\n",
        "    thread.start()\n",
        "\n",
        "# Chatbot com tom e estilo adequados\n",
        "st.header(\"Chatbot de Segurança da Informação\")\n",
        "system_instruction = system_instructions[reconhecimento]\n",
        "chat_session = genai.ChatSession(MODEL_NAME)\n",
        "while True:\n",
        "    prompt = st.text_input(\"Como posso auxiliá-lo(a) hoje?\", key=\"prompt\")\n",
        "    if prompt == \"fim\":\n",
        "        break\n",
        "    response = chat_session.send_message(prompt)\n",
        "    st.write(f\"Resposta: {response.text}\")"
      ],
      "metadata": {
        "id": "QZxEiPfJnIyT"
      },
      "execution_count": null,
      "outputs": []
    },
    {
      "cell_type": "markdown",
      "source": [
        "### Configuração do Chatbot e Definição dos varios tipos de Perfis."
      ],
      "metadata": {
        "id": "DVxgN0GrnLae"
      }
    }
  ]
}